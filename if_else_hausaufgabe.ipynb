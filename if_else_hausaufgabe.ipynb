{
  "nbformat": 4,
  "nbformat_minor": 0,
  "metadata": {
    "colab": {
      "provenance": [],
      "include_colab_link": true
    },
    "kernelspec": {
      "name": "python3",
      "display_name": "Python 3"
    },
    "language_info": {
      "name": "python"
    }
  },
  "cells": [
    {
      "cell_type": "markdown",
      "metadata": {
        "id": "view-in-github",
        "colab_type": "text"
      },
      "source": [
        "<a href=\"https://colab.research.google.com/github/MarcelPinkert/Hausaufgaben/blob/main/if_else_hausaufgabe.ipynb\" target=\"_parent\"><img src=\"https://colab.research.google.com/assets/colab-badge.svg\" alt=\"Open In Colab\"/></a>"
      ]
    },
    {
      "cell_type": "markdown",
      "source": [
        "# Hausaufgabe\n",
        "Heute haben wir uns mit den Kontrollstrukturen in Python beschäftigt.\n",
        "Im Zuge dessen bearbeitest du heute Nachmittag weitere kleine Aufgaben zu diesem Thema. Nimm dieses Notebook und füge deinen Code hinzu an den passenden Stellen.\n",
        "**Abgabe**: Gehe oben links auf Datei, dann auf Herunterladen, dann auf .ipynb. Dann startet ein Download des Notebooks. Diese heruntergeladene Datei fügst du bitte als Abgabe in den Classroom ein.\n",
        "\n"
      ],
      "metadata": {
        "id": "32gVnQpZ7mQz"
      }
    },
    {
      "cell_type": "markdown",
      "source": [
        "## if-else\n",
        "### Aufgabe 1 (BMI-Index)\n",
        "Berechne den Body-Mass-Index (BMI) und klassifiziere ihn:\n",
        "- < 18.5: Untergewicht\n",
        "- 18.5 - 24.9: Normalgewicht\n",
        "- 25 - 29.9: Übergewicht\n",
        "- 30+: Adipositas\n",
        "\n",
        "Zusatzaufgabe: Füge eine input-Funktion hinzu, damit du beim Ausführen des Codes, eine Eingabe tätigen kannst.\n",
        "Hinweis: `kg = float(input(\"Bitte gib dein Gewicht ein: \"))`"
      ],
      "metadata": {
        "id": "9pZQdBfN8GDV"
      }
    },
    {
      "cell_type": "code",
      "source": [
        "Gewicht = float(input(\"Gewicht in Kg:\"))\n",
        "Grösse = float(input(\"Grösse in Meter:\"))\n",
        "\n",
        "BMI = Gewicht / (Grösse ** 2)\n",
        "\n",
        "if BMI < 18.5:\n",
        "  Überprüfung = \"Untergewicht\"\n",
        "elif BMI < 25:\n",
        "  Überprüfung = \"Normalgewicht\"\n",
        "elif BMI < 30:\n",
        "  Überprüfung = \"Übergewicht\"\n",
        "else:\n",
        "  Überprüfung = \"Adipoditas\"\n",
        "\n",
        "  print(\"BMI ist:\", round(BMI, 2))\n",
        "  print(\"BMI-Kategorie ist:\", Überprüfung)"
      ],
      "metadata": {
        "id": "54YQr9hA8i95",
        "colab": {
          "base_uri": "https://localhost:8080/"
        },
        "outputId": "97a158af-22ed-4ffc-bcee-5d9b11d8138d"
      },
      "execution_count": null,
      "outputs": [
        {
          "output_type": "stream",
          "name": "stdout",
          "text": [
            "Gewicht in Kg:130\n",
            "Grösse in Meter:1.88\n",
            "BMI ist: 36.78\n",
            "BMI-Kategorie ist: Adipoditas\n"
          ]
        }
      ]
    },
    {
      "cell_type": "markdown",
      "source": [
        "### Beispiel-Aufgabe zum Modulo-Operator (Division mit Rest)\n",
        "Schreibe ein Programm, das eine Zahl überprüft und ausgibt, ob die Zahl durch 3 teilbar ist.\n",
        "Modulo-Operator in Python --> `%`"
      ],
      "metadata": {
        "id": "Q-j4zOXLGJeP"
      }
    },
    {
      "cell_type": "code",
      "source": [
        "zahl = 6\n",
        "if ((zahl % 3) == 0):\n",
        "  print(\"Zahl ist durch 3 teilbar\")\n",
        "else:\n",
        "  print(\"Zahl ist nicht durch 3 teilbar\")"
      ],
      "metadata": {
        "colab": {
          "base_uri": "https://localhost:8080/"
        },
        "id": "U1Vm_NNfGWMi",
        "outputId": "b933e2c4-8a3d-4f33-f962-1411a48f6acf"
      },
      "execution_count": null,
      "outputs": [
        {
          "output_type": "stream",
          "name": "stdout",
          "text": [
            "Zahl ist durch 3 teilbar\n"
          ]
        }
      ]
    },
    {
      "cell_type": "markdown",
      "source": [
        "### Aufgabe 2 (Schaltjahr)\n",
        "Ein Jahr ist ein Schaltjahr, wenn es durch 4 teilbar (Achtung: modulo-Operator) ist, außer es ist durch 100 teilbar – außer es ist durch 400 teilbar.\n",
        "\n",
        "Zusatzaufgabe: Füge eine input-Funktion hinzu, damit du beim Ausführen des Codes, eine Eingabe tätigen kannst."
      ],
      "metadata": {
        "id": "Tz0qkYnt8jIk"
      }
    },
    {
      "cell_type": "code",
      "source": [
        "Jahr = int(input(\"Gib Jahr ein\"))\n",
        "if (Jahr % 4 == 0 and Jahr % 100 != 0) or (Jahr % 400 == 0):\n",
        "  print(\"Schaltjahr\")\n",
        "else:\n",
        "    print(\"Kein Schaltjahr\")"
      ],
      "metadata": {
        "id": "iplaWFpB8ycy",
        "colab": {
          "base_uri": "https://localhost:8080/"
        },
        "outputId": "abb5e413-514e-47cb-d407-fc40a853fd31"
      },
      "execution_count": 2,
      "outputs": [
        {
          "output_type": "stream",
          "name": "stdout",
          "text": [
            "Gib Jahr ein 1978\n",
            "Kein Schaltjahr\n"
          ]
        }
      ]
    },
    {
      "cell_type": "markdown",
      "source": [
        "### Aufgabe 3 (Rabatt)\n",
        "Wenn ein Einkaufswert über 100€ liegt, gibt es 10% Rabatt, ansonsten keinen. Berechne den Endpreis.\n",
        "Zusatzaufgabe: Füge eine input-Funktion hinzu, damit du beim Ausführen des Codes, eine Eingabe tätigen kannst."
      ],
      "metadata": {
        "id": "aIckDaYu8sBi"
      }
    },
    {
      "cell_type": "markdown",
      "source": [
        "## Datentypen\n",
        "### Aufgabe 1\n",
        "Initialisiere Variablen mit den Werten\n",
        "- 42\n",
        "- 3.14\n",
        "- \"Hallo Welt\"\n",
        "- True\n",
        "- [1,2,3]\n",
        "- (1,2)\n",
        "- {\"name\": \"Max\", \"alter\": 22}\n"
      ],
      "metadata": {
        "id": "Em4WQGm888Mc"
      }
    },
    {
      "cell_type": "code",
      "source": [
        "a = 42\n",
        "b = 3.14\n",
        "c = \"Hallo Welt\"\n",
        "d = True\n",
        "e = [1,2,3]\n",
        "f = (1,2)\n",
        "g = {\"Name\": \"Max\", \"Alter\": 22}\n",
        "print(type(a))\n",
        "print(type(b))\n",
        "print(type(c))\n",
        "print(type(d))\n",
        "print(type(e))\n",
        "print(type(f))\n",
        "print(type(g))\n"
      ],
      "metadata": {
        "id": "JOudTf8Q9aPJ",
        "colab": {
          "base_uri": "https://localhost:8080/"
        },
        "outputId": "03a87261-af29-4886-f7a4-d64c53669cdb"
      },
      "execution_count": null,
      "outputs": [
        {
          "output_type": "stream",
          "name": "stdout",
          "text": [
            "<class 'int'>\n",
            "<class 'float'>\n",
            "<class 'str'>\n",
            "<class 'bool'>\n",
            "<class 'list'>\n",
            "<class 'tuple'>\n",
            "<class 'dict'>\n"
          ]
        }
      ]
    },
    {
      "cell_type": "markdown",
      "source": [
        "### Aufgabe 2\n",
        "Bestimme jeweils um welche Art des Datentyps es sich handelt"
      ],
      "metadata": {
        "id": "gnrmw0w79abL"
      }
    },
    {
      "cell_type": "markdown",
      "source": [
        "\n",
        "\n",
        "\n",
        "\n",
        "\n",
        "*   int\n",
        "*   float\n",
        "*   string\n",
        "*   bool\n",
        "*   list\n",
        "*   tuple\n",
        "*   dict\n",
        "\n",
        "\n",
        "\n",
        "\n",
        "\n"
      ],
      "metadata": {
        "id": "uM-IpReO9b_R"
      }
    },
    {
      "cell_type": "markdown",
      "source": [
        "### Aufgabe 3\n",
        "Recherchiere nach dem Begriff Duck Typing in Python. Was bedeutet das?"
      ],
      "metadata": {
        "id": "Q1HHvqkv9cgx"
      }
    },
    {
      "cell_type": "markdown",
      "source": [
        "Duck-Typing ist charakteristisch für objektorientierte Skriptsprachen wie Python, Groovy, PHP und Ruby. Beim Duck-Typing wird zur Laufzeit des Programms geprüft, ob ein Objekt die entsprechenden Merkmale unterstützt."
      ],
      "metadata": {
        "id": "mOfhQQUK9lhu"
      }
    }
  ]
}